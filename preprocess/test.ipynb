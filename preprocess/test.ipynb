{
 "cells": [
  {
   "cell_type": "code",
   "execution_count": 19,
   "metadata": {
    "metadata": {}
   },
   "outputs": [
    {
     "name": "stdout",
     "output_type": "stream",
     "text": [
      "/home/fzc/workspace/convul/cpg_single/cpg_process/cpg.dot\n",
      "^\n",
      "Expected {'GRAPH' | 'DIGRAPH'}, found '/'  (at char 0), (line:1, col:1)\n"
     ]
    }
   ],
   "source": [
    "import pydot\n",
    "# path = \"/home/fzc/workspace/convul/cpg_single/cpg_process/cpg.dot\"\n",
    "# data = path.read()\n",
    "pydot.graph_from_dot_data(\"/home/fzc/workspace/convul/cpg_single/cpg_process/cpg.dot\")"
   ]
  },
  {
   "cell_type": "code",
   "execution_count": 2,
   "metadata": {
    "metadata": {}
   },
   "outputs": [
    {
     "name": "stdout",
     "output_type": "stream",
     "text": [
      "pdg: [<pydot.core.Dot object at 0x7c4223891c40>]\n",
      "Nodes: [<pydot.core.Node object at 0x7c424621b9a0>, <pydot.core.Node object at 0x7c422336b790>, <pydot.core.Node object at 0x7c422336b7f0>, <pydot.core.Node object at 0x7c422336b730>, <pydot.core.Node object at 0x7c422336bc70>, <pydot.core.Node object at 0x7c422336b4f0>, <pydot.core.Node object at 0x7c422336b9d0>, <pydot.core.Node object at 0x7c422336b700>, <pydot.core.Node object at 0x7c422336b340>, <pydot.core.Node object at 0x7c422336b7c0>, <pydot.core.Node object at 0x7c422336b490>, <pydot.core.Node object at 0x7c422336b850>, <pydot.core.Node object at 0x7c422336bdf0>, <pydot.core.Node object at 0x7c422336b310>, <pydot.core.Node object at 0x7c422336ba90>, <pydot.core.Node object at 0x7c422336bd00>, <pydot.core.Node object at 0x7c422336b5e0>, <pydot.core.Node object at 0x7c422336bf40>, <pydot.core.Node object at 0x7c422336b820>]\n",
      "Edges: [<pydot.core.Edge object at 0x7c422336b2e0>, <pydot.core.Edge object at 0x7c422336baf0>, <pydot.core.Edge object at 0x7c422336b8b0>, <pydot.core.Edge object at 0x7c422336bd60>, <pydot.core.Edge object at 0x7c422336b430>, <pydot.core.Edge object at 0x7c422336b640>, <pydot.core.Edge object at 0x7c422336bb50>, <pydot.core.Edge object at 0x7c422336bbe0>, <pydot.core.Edge object at 0x7c422336be20>, <pydot.core.Edge object at 0x7c422336bd30>, <pydot.core.Edge object at 0x7c422336b3d0>, <pydot.core.Edge object at 0x7c422336bac0>, <pydot.core.Edge object at 0x7c422336b550>, <pydot.core.Edge object at 0x7c422336bf10>, <pydot.core.Edge object at 0x7c422336ba30>, <pydot.core.Edge object at 0x7c422336bfa0>, <pydot.core.Edge object at 0x7c422336bc10>, <pydot.core.Edge object at 0x7c422336b520>, <pydot.core.Edge object at 0x7c42238cc7c0>, <pydot.core.Edge object at 0x7c42232bd8e0>, <pydot.core.Edge object at 0x7c42232bda60>, <pydot.core.Edge object at 0x7c42232bdd00>, <pydot.core.Edge object at 0x7c42232bddc0>, <pydot.core.Edge object at 0x7c42232bdb50>, <pydot.core.Edge object at 0x7c42232bd700>, <pydot.core.Edge object at 0x7c42232bde50>, <pydot.core.Edge object at 0x7c42232bd910>, <pydot.core.Edge object at 0x7c42232bdc10>, <pydot.core.Edge object at 0x7c42232bd6a0>]\n",
      "Nodes:\n",
      "Node ID: \"24\", Label: <(METHOD,main)<SUB>15</SUB>>\n",
      "Node ID: \"25\", Label: <(BLOCK,{thread t1(increment);thread t2(incre...,{thread t1(increment);thread t2(incre...)<SUB>15</SUB>>\n",
      "Node ID: \"26\", Label: <(METHOD,t1)<SUB>16</SUB>>\n",
      "Node ID: \"27\", Label: <(PARAM,increment)<SUB>16</SUB>>\n",
      "Node ID: \"28\", Label: <(BLOCK,&lt;empty&gt;,&lt;empty&gt;)>\n",
      "Node ID: \"29\", Label: <(METHOD_RETURN,thread)<SUB>16</SUB>>\n",
      "Node ID: \"31\", Label: <(METHOD,t2)<SUB>17</SUB>>\n",
      "Node ID: \"32\", Label: <(PARAM,increment)<SUB>17</SUB>>\n",
      "Node ID: \"33\", Label: <(BLOCK,&lt;empty&gt;,&lt;empty&gt;)>\n",
      "Node ID: \"34\", Label: <(METHOD_RETURN,thread)<SUB>17</SUB>>\n",
      "Node ID: \"36\", Label: <(join,t1.join())<SUB>18</SUB>>\n",
      "Node ID: \"37\", Label: <(&lt;operator&gt;.fieldAccess,t1.join)<SUB>18</SUB>>\n",
      "Node ID: \"38\", Label: <(IDENTIFIER,t1,t1.join())<SUB>18</SUB>>\n",
      "Node ID: \"39\", Label: <(FIELD_IDENTIFIER,join,join)<SUB>18</SUB>>\n",
      "Node ID: \"40\", Label: <(join,t2.join())<SUB>19</SUB>>\n",
      "Node ID: \"41\", Label: <(&lt;operator&gt;.fieldAccess,t2.join)<SUB>19</SUB>>\n",
      "Node ID: \"42\", Label: <(IDENTIFIER,t2,t2.join())<SUB>19</SUB>>\n",
      "Node ID: \"43\", Label: <(FIELD_IDENTIFIER,join,join)<SUB>19</SUB>>\n",
      "Node ID: \"44\", Label: <(METHOD_RETURN,int)<SUB>15</SUB>>\n",
      "\n",
      "Edges:\n",
      "Edge from \"24\" to \"25\"\n",
      "Edge from \"24\" to \"44\"\n",
      "Edge from \"25\" to \"26\"\n",
      "Edge from \"25\" to \"31\"\n",
      "Edge from \"25\" to \"36\"\n",
      "Edge from \"25\" to \"40\"\n",
      "Edge from \"26\" to \"27\"\n",
      "Edge from \"26\" to \"28\"\n",
      "Edge from \"26\" to \"29\"\n",
      "Edge from \"31\" to \"32\"\n",
      "Edge from \"31\" to \"33\"\n",
      "Edge from \"31\" to \"34\"\n",
      "Edge from \"36\" to \"37\"\n",
      "Edge from \"37\" to \"38\"\n",
      "Edge from \"37\" to \"39\"\n",
      "Edge from \"40\" to \"41\"\n",
      "Edge from \"41\" to \"42\"\n",
      "Edge from \"41\" to \"43\"\n",
      "Edge from \"36\" to \"43\"\n",
      "Edge from \"40\" to \"44\"\n",
      "Edge from \"40\" to \"44\"\n",
      "Edge from \"40\" to \"44\"\n",
      "Edge from \"37\" to \"36\"\n",
      "Edge from \"41\" to \"40\"\n",
      "Edge from \"39\" to \"37\"\n",
      "Edge from \"43\" to \"41\"\n",
      "Edge from \"24\" to \"39\"\n",
      "Edge from \"36\" to \"44\"\n",
      "Edge from \"36\" to \"44\"\n"
     ]
    }
   ],
   "source": [
    "import pydot\n",
    "\n",
    "# 读取 .dot 文件c\n",
    "(graph,) = pydot.graph_from_dot_file(\"/home/fzc/workspace/convul/cpg_single/cpg_process/cpg.dot\")\n",
    "pdg = pydot.graph_from_dot_file(\"/home/fzc/workspace/convul/cpg_single/cpg_process/cpg.dot\")\n",
    "print('pdg:',pdg)\n",
    "# pydot.graph_from_dot_data(graph)\n",
    "# 输出图的基本信息\n",
    "print(\"Nodes:\", graph.get_nodes())\n",
    "print(\"Edges:\", graph.get_edges())\n",
    "# print(graph)\n",
    "# 输出每个节点的信息\n",
    "# print(graph.nodes())\n",
    "print(\"Nodes:\")\n",
    "for node in graph.get_nodes():\n",
    "    print(f\"Node ID: {node.get_name()}, Label: {node.get_label()}\")\n",
    "    \n",
    "\n",
    "# 输出每条边的信息\n",
    "print(\"\\nEdges:\")\n",
    "for edge in graph.get_edges():\n",
    "    print(f\"Edge from {edge.get_source()} to {edge.get_destination()}\")\n",
    "\n"
   ]
  },
  {
   "cell_type": "code",
   "execution_count": 17,
   "metadata": {
    "metadata": {}
   },
   "outputs": [
    {
     "name": "stdout",
     "output_type": "stream",
     "text": [
      "graph my_graph {\n",
      "bgcolor=\"yellow\";\n",
      "a [label=\"Foo\"];\n",
      "b [shape=circle];\n",
      "a -- b [color=blue];\n",
      "b -- c [color=blue];\n",
      "}\n",
      "\n"
     ]
    }
   ],
   "source": [
    "import pydot\n",
    "\n",
    "dot_string = \"\"\"graph my_graph {\n",
    "    bgcolor=\"yellow\";\n",
    "    a [label=\"Foo\"];\n",
    "    b [shape=circle];\n",
    "    a -- b -- c [color=blue];\n",
    "}\"\"\"\n",
    "\n",
    "graphs = pydot.graph_from_dot_data(dot_string)\n",
    "graph = graphs[0]\n",
    "print(graph)"
   ]
  },
  {
   "cell_type": "code",
   "execution_count": null,
   "metadata": {
    "metadata": {}
   },
   "outputs": [],
   "source": [
    "# 把目录下的所有文件分为train和test 分别写入nvd_train.txt和nvd_test.txt,每一行是一个文件的路径\n",
    "import os\n",
    "import random\n",
    "base_dir = './deeprace_preprocess/nvd/'\n",
    "def split_files_to_train_test(directory, train_ratio=0.8):\n",
    "    # 获取文件目录下的所有文件路径\n",
    "    files = [os.path.join(directory, f) for f in os.listdir(directory) if os.path.isfile(os.path.join(directory, f))]\n",
    "    \n",
    "    # 打乱文件顺序\n",
    "    random.shuffle(files)\n",
    "    \n",
    "    # 按照train_ratio分割成train和test\n",
    "    train_count = int(len(files) * train_ratio)\n",
    "    train_files = files[:train_count]\n",
    "    test_files = files[train_count:]\n",
    "    \n",
    "    # 写入nvd_train.txt\n",
    "    with open(base_dir+\"nvd_train.txt\", \"w\") as train_file:\n",
    "        for file_path in train_files:\n",
    "            train_file.write(f\"{file_path}\\n\")\n",
    "    \n",
    "    # 写入nvd_test.txt\n",
    "    with open(base_dir+\"nvd_test.txt\", \"w\") as test_file:\n",
    "        for file_path in test_files:\n",
    "            test_file.write(f\"{file_path}\\n\")\n",
    "\n",
    "# 使用目录路径和训练集比例调用函数\n",
    "# split_files_to_train_test(\"/home/fzc/dataset/all_data_preprocess/final/dataset/\", train_ratio=0.8)\n",
    "split_files_to_train_test(\"/home/fzc/dataset/cope_deeprace/3_out_json_wi/\", train_ratio=0.8)\n"
   ]
  },
  {
   "cell_type": "code",
   "execution_count": 6,
   "metadata": {
    "metadata": {}
   },
   "outputs": [
    {
     "name": "stdout",
     "output_type": "stream",
     "text": [
      "torch.Size([4])\n",
      "tensor([[0.3053, 0.5402]], device='cuda:0', grad_fn=<SigmoidBackward0>)\n"
     ]
    }
   ],
   "source": [
    "import torch\n",
    "from torch import nn\n",
    "from torch_geometric.nn import RGCNConv, global_add_pool\n",
    "\n",
    "class RGCN(nn.Module):\n",
    "    def __init__(self, output_dim=200, input_dim=100, num_relations=5):\n",
    "        super().__init__()\n",
    "        self.conv = RGCNConv(input_dim, output_dim, num_relations)\n",
    "        hidden_size = 256\n",
    "        layers = [\n",
    "            nn.Linear(output_dim, hidden_size),\n",
    "            nn.ReLU(),\n",
    "            nn.Dropout(0.3)\n",
    "        ]\n",
    "        layers += [\n",
    "            nn.Linear(hidden_size, hidden_size),\n",
    "            nn.ReLU(),\n",
    "            nn.Dropout(0.3)\n",
    "        ]\n",
    "        self.__hidden_layers = nn.Sequential(*layers)\n",
    "        self.__classifier = nn.Linear(hidden_size, 2)\n",
    "        self.readout = global_add_pool\n",
    "        self.softmax = nn.Sigmoid()\n",
    "\n",
    "    def forward(self, x, edge_index, edge_type):\n",
    "        x = x.to(torch.device(\"cuda:0\"))\n",
    "        edge_index = edge_index.to(torch.device(\"cuda:0\"))\n",
    "        edge_type = edge_type.to(torch.device(\"cuda:0\"))\n",
    "        outputs = self.conv(x, edge_index, edge_type)\n",
    "        pooled = self.readout(outputs, torch.zeros(outputs.shape[0], dtype=int, device=outputs.device))\n",
    "        hiddens = self.__hidden_layers(pooled)\n",
    "        avg = self.__classifier(hiddens)\n",
    "        result = self.softmax(avg)\n",
    "        return result\n",
    "\n",
    "# 示例数据\n",
    "x = torch.randn((10, 100))  # 10个节点，每个节点有100维特征\n",
    "x = x.to(torch.device(\"cuda:0\"))\n",
    "edge_index = torch.tensor([[0, 1, 2, 3], [1, 2, 3, 4]], dtype=torch.long)  # 边索引\n",
    "edge_index = edge_index.to(torch.device(\"cuda:0\"))\n",
    "edge_type = torch.tensor([0, 1, 2, 0], dtype=torch.long)  # 边类型\n",
    "print(edge_type.shape)\n",
    "edge_type = edge_type.to(torch.device(\"cuda:0\"))\n",
    "\n",
    "# 创建模型并进行前向传播\n",
    "model = RGCN(output_dim=200, input_dim=100, num_relations=3)\n",
    "model = model.to(torch.device(\"cuda:0\"))\n",
    "output = model(x, edge_index, edge_type)\n",
    "print(output)"
   ]
  }
 ],
 "metadata": {
  "kernelspec": {
   "display_name": "d2l",
   "language": "python",
   "name": "python3"
  },
  "language_info": {
   "codemirror_mode": {
    "name": "ipython",
    "version": 3
   },
   "file_extension": ".py",
   "mimetype": "text/x-python",
   "name": "python",
   "nbconvert_exporter": "python",
   "pygments_lexer": "ipython3",
   "version": "3.9.19"
  }
 },
 "nbformat": 4,
 "nbformat_minor": 2
}
